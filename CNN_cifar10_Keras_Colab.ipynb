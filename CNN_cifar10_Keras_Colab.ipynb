{
  "nbformat": 4,
  "nbformat_minor": 0,
  "metadata": {
    "colab": {
      "name": "CNN_cifar10_Keras.ipynb",
      "version": "0.3.2",
      "provenance": [],
      "include_colab_link": true
    },
    "kernelspec": {
      "name": "python3",
      "display_name": "Python 3"
    },
    "accelerator": "GPU"
  },
  "cells": [
    {
      "cell_type": "markdown",
      "metadata": {
        "id": "view-in-github",
        "colab_type": "text"
      },
      "source": [
        "<a href=\"https://colab.research.google.com/github/pcoge/Practice/blob/master/CNN_cifar10_Keras_Colab.ipynb\" target=\"_parent\"><img src=\"https://colab.research.google.com/assets/colab-badge.svg\" alt=\"Open In Colab\"/></a>"
      ]
    },
    {
      "metadata": {
        "id": "th0RYPphIwnd",
        "colab_type": "code",
        "outputId": "47938ac6-7087-45fe-9baf-da26ff9e97fb",
        "colab": {
          "base_uri": "https://localhost:8080/",
          "height": 67
        }
      },
      "cell_type": "code",
      "source": [
        "from keras.models import Sequential\n",
        "from keras.layers.convolutional import Conv2D\n",
        "from keras.layers.pooling import MaxPool2D\n",
        "from keras.layers.core import Dense,Activation,Dropout,Flatten\n",
        "from keras.datasets import cifar10\n",
        "from keras.utils import np_utils\n",
        "\n",
        "#cifar10をダウンロード\n",
        "(x_train,y_train),(x_test,y_test)=cifar10.load_data()\n",
        "\n",
        "#画像を0-1の範囲で正規化\n",
        "x_train=x_train.astype('float32')/255.0\n",
        "x_test=x_test.astype('float32')/255.0\n",
        "\n",
        "#正解ラベルをOne-Hot表現に変換\n",
        "y_train=np_utils.to_categorical(y_train,10)\n",
        "y_test=np_utils.to_categorical(y_test,10)"
      ],
      "execution_count": 1,
      "outputs": [
        {
          "output_type": "stream",
          "text": [
            "Using TensorFlow backend.\n"
          ],
          "name": "stderr"
        },
        {
          "output_type": "stream",
          "text": [
            "Downloading data from https://www.cs.toronto.edu/~kriz/cifar-10-python.tar.gz\n",
            "170500096/170498071 [==============================] - 26s 0us/step\n"
          ],
          "name": "stdout"
        }
      ]
    },
    {
      "metadata": {
        "id": "YMAQ828dIwnn",
        "colab_type": "code",
        "outputId": "1d6d6d92-2966-457a-d7d6-2b1cab03d560",
        "colab": {
          "base_uri": "https://localhost:8080/",
          "height": 34
        }
      },
      "cell_type": "code",
      "source": [
        "!ls"
      ],
      "execution_count": 2,
      "outputs": [
        {
          "output_type": "stream",
          "text": [
            "sample_data\n"
          ],
          "name": "stdout"
        }
      ]
    },
    {
      "metadata": {
        "id": "Iq2Mb27qIwns",
        "colab_type": "code",
        "outputId": "15b867f5-23e0-4b75-80f9-97ad31bef3e6",
        "colab": {
          "base_uri": "https://localhost:8080/",
          "height": 1445
        }
      },
      "cell_type": "code",
      "source": [
        "#モデルを構築\n",
        "model=Sequential()\n",
        "\n",
        "model.add(Conv2D(32,(3,3),padding='same',input_shape=(32,32,3)))\n",
        "model.add(Activation('relu'))\n",
        "model.add(Conv2D(32,(3,3),padding='same'))\n",
        "model.add(Activation('relu'))\n",
        "model.add(MaxPool2D(pool_size=(2,2)))\n",
        "model.add(Dropout(0.25))\n",
        "\n",
        "model.add(Conv2D(64,(3,3),padding='same'))\n",
        "model.add(Activation('relu'))\n",
        "model.add(Conv2D(64,(3,3),padding='same'))\n",
        "model.add(Activation('relu'))\n",
        "model.add(MaxPool2D(pool_size=(2,2)))\n",
        "model.add(Dropout(0.25))\n",
        "\n",
        "model.add(Flatten())\n",
        "model.add(Dense(512))\n",
        "model.add(Activation('relu'))\n",
        "model.add(Dropout(0.5))\n",
        "model.add(Dense(10,activation='softmax'))\n",
        "\n",
        "model.compile(optimizer='adam',loss='categorical_crossentropy',metrics=['accuracy'])\n",
        "\n",
        "history=model.fit(x_train,y_train,batch_size=128,nb_epoch=20,verbose=1,validation_split=0.1)\n",
        "\n",
        "#モデルと重みを保存\n",
        "json_string=model.to_json()\n",
        "open('cifar10_cnn.json',\"w\").write(json_string)\n",
        "model.save_weights('cifar10_cnn.h5')\n",
        "\n",
        "#モデルの表示\n",
        "model.summary()\n",
        "\n",
        "#評価\n",
        "score=model.evaluate(x_test,y_test,verbose=0)\n",
        "print('Test loss:',score[0])\n",
        "print('Test accuracy:',score[1])"
      ],
      "execution_count": 3,
      "outputs": [
        {
          "output_type": "stream",
          "text": [
            "/usr/local/lib/python3.6/dist-packages/ipykernel_launcher.py:25: UserWarning: The `nb_epoch` argument in `fit` has been renamed `epochs`.\n"
          ],
          "name": "stderr"
        },
        {
          "output_type": "stream",
          "text": [
            "Train on 45000 samples, validate on 5000 samples\n",
            "Epoch 1/20\n",
            "45000/45000 [==============================] - 16s 364us/step - loss: 1.6073 - acc: 0.4135 - val_loss: 1.2349 - val_acc: 0.5630\n",
            "Epoch 2/20\n",
            "45000/45000 [==============================] - 11s 254us/step - loss: 1.1820 - acc: 0.5776 - val_loss: 1.0144 - val_acc: 0.6438\n",
            "Epoch 3/20\n",
            "45000/45000 [==============================] - 11s 255us/step - loss: 1.0115 - acc: 0.6405 - val_loss: 0.8610 - val_acc: 0.6998\n",
            "Epoch 4/20\n",
            "45000/45000 [==============================] - 11s 255us/step - loss: 0.9029 - acc: 0.6786 - val_loss: 0.7723 - val_acc: 0.7346\n",
            "Epoch 5/20\n",
            "45000/45000 [==============================] - 12s 257us/step - loss: 0.8168 - acc: 0.7134 - val_loss: 0.7560 - val_acc: 0.7480\n",
            "Epoch 6/20\n",
            "45000/45000 [==============================] - 11s 255us/step - loss: 0.7392 - acc: 0.7401 - val_loss: 0.6959 - val_acc: 0.7618\n",
            "Epoch 7/20\n",
            "45000/45000 [==============================] - 11s 254us/step - loss: 0.6871 - acc: 0.7579 - val_loss: 0.6667 - val_acc: 0.7722\n",
            "Epoch 8/20\n",
            "45000/45000 [==============================] - 11s 255us/step - loss: 0.6361 - acc: 0.7778 - val_loss: 0.6747 - val_acc: 0.7690\n",
            "Epoch 9/20\n",
            "45000/45000 [==============================] - 11s 254us/step - loss: 0.5868 - acc: 0.7925 - val_loss: 0.6418 - val_acc: 0.7796\n",
            "Epoch 10/20\n",
            "45000/45000 [==============================] - 11s 253us/step - loss: 0.5510 - acc: 0.8050 - val_loss: 0.6266 - val_acc: 0.7916\n",
            "Epoch 11/20\n",
            "45000/45000 [==============================] - 11s 255us/step - loss: 0.5144 - acc: 0.8175 - val_loss: 0.6542 - val_acc: 0.7828\n",
            "Epoch 12/20\n",
            "45000/45000 [==============================] - 11s 254us/step - loss: 0.4855 - acc: 0.8279 - val_loss: 0.6489 - val_acc: 0.7904\n",
            "Epoch 13/20\n",
            "45000/45000 [==============================] - 11s 254us/step - loss: 0.4544 - acc: 0.8396 - val_loss: 0.6323 - val_acc: 0.7922\n",
            "Epoch 14/20\n",
            "45000/45000 [==============================] - 11s 254us/step - loss: 0.4228 - acc: 0.8492 - val_loss: 0.6104 - val_acc: 0.8018\n",
            "Epoch 15/20\n",
            "45000/45000 [==============================] - 11s 255us/step - loss: 0.4058 - acc: 0.8560 - val_loss: 0.6374 - val_acc: 0.7908\n",
            "Epoch 16/20\n",
            "45000/45000 [==============================] - 11s 253us/step - loss: 0.3813 - acc: 0.8635 - val_loss: 0.6179 - val_acc: 0.8048\n",
            "Epoch 17/20\n",
            "45000/45000 [==============================] - 11s 255us/step - loss: 0.3643 - acc: 0.8711 - val_loss: 0.6755 - val_acc: 0.7920\n",
            "Epoch 18/20\n",
            "45000/45000 [==============================] - 11s 254us/step - loss: 0.3427 - acc: 0.8780 - val_loss: 0.6634 - val_acc: 0.7902\n",
            "Epoch 19/20\n",
            "45000/45000 [==============================] - 11s 255us/step - loss: 0.3277 - acc: 0.8818 - val_loss: 0.6467 - val_acc: 0.8074\n",
            "Epoch 20/20\n",
            "45000/45000 [==============================] - 11s 254us/step - loss: 0.3265 - acc: 0.8812 - val_loss: 0.6630 - val_acc: 0.7980\n",
            "_________________________________________________________________\n",
            "Layer (type)                 Output Shape              Param #   \n",
            "=================================================================\n",
            "conv2d_1 (Conv2D)            (None, 32, 32, 32)        896       \n",
            "_________________________________________________________________\n",
            "activation_1 (Activation)    (None, 32, 32, 32)        0         \n",
            "_________________________________________________________________\n",
            "conv2d_2 (Conv2D)            (None, 32, 32, 32)        9248      \n",
            "_________________________________________________________________\n",
            "activation_2 (Activation)    (None, 32, 32, 32)        0         \n",
            "_________________________________________________________________\n",
            "max_pooling2d_1 (MaxPooling2 (None, 16, 16, 32)        0         \n",
            "_________________________________________________________________\n",
            "dropout_1 (Dropout)          (None, 16, 16, 32)        0         \n",
            "_________________________________________________________________\n",
            "conv2d_3 (Conv2D)            (None, 16, 16, 64)        18496     \n",
            "_________________________________________________________________\n",
            "activation_3 (Activation)    (None, 16, 16, 64)        0         \n",
            "_________________________________________________________________\n",
            "conv2d_4 (Conv2D)            (None, 16, 16, 64)        36928     \n",
            "_________________________________________________________________\n",
            "activation_4 (Activation)    (None, 16, 16, 64)        0         \n",
            "_________________________________________________________________\n",
            "max_pooling2d_2 (MaxPooling2 (None, 8, 8, 64)          0         \n",
            "_________________________________________________________________\n",
            "dropout_2 (Dropout)          (None, 8, 8, 64)          0         \n",
            "_________________________________________________________________\n",
            "flatten_1 (Flatten)          (None, 4096)              0         \n",
            "_________________________________________________________________\n",
            "dense_1 (Dense)              (None, 512)               2097664   \n",
            "_________________________________________________________________\n",
            "activation_5 (Activation)    (None, 512)               0         \n",
            "_________________________________________________________________\n",
            "dropout_3 (Dropout)          (None, 512)               0         \n",
            "_________________________________________________________________\n",
            "dense_2 (Dense)              (None, 10)                5130      \n",
            "=================================================================\n",
            "Total params: 2,168,362\n",
            "Trainable params: 2,168,362\n",
            "Non-trainable params: 0\n",
            "_________________________________________________________________\n",
            "Test loss: 0.7040920495986939\n",
            "Test accuracy: 0.7825\n"
          ],
          "name": "stdout"
        }
      ]
    },
    {
      "metadata": {
        "id": "DbFNXAuMIwnw",
        "colab_type": "text"
      },
      "cell_type": "markdown",
      "source": [
        "参考にした記事\n",
        "> cifar10とKerasを使ってCNN(Convolutional Neural Network)を実装してみる\n",
        "> https://qiita.com/God_KonaBanana/items/10fa8bb58cdd1dbd2e59"
      ]
    },
    {
      "metadata": {
        "id": "UEyevT3o8kME",
        "colab_type": "code",
        "colab": {
          "base_uri": "https://localhost:8080/",
          "height": 34
        },
        "outputId": "1383d38d-4fe9-4520-f1c3-4f56b5af3ab7"
      },
      "cell_type": "code",
      "source": [
        "!ls"
      ],
      "execution_count": 4,
      "outputs": [
        {
          "output_type": "stream",
          "text": [
            "cifar10_cnn.h5\tcifar10_cnn.json  sample_data\n"
          ],
          "name": "stdout"
        }
      ]
    },
    {
      "metadata": {
        "id": "kCY77zpg8lc9",
        "colab_type": "code",
        "colab": {
          "base_uri": "https://localhost:8080/",
          "height": 34
        },
        "outputId": "c0e00864-11d9-46c6-cba8-3c2fd12d8bab"
      },
      "cell_type": "code",
      "source": [
        "!ll"
      ],
      "execution_count": 5,
      "outputs": [
        {
          "output_type": "stream",
          "text": [
            "/bin/bash: ll: command not found\n"
          ],
          "name": "stdout"
        }
      ]
    },
    {
      "metadata": {
        "id": "wY3gPFqJ8p4l",
        "colab_type": "code",
        "colab": {
          "base_uri": "https://localhost:8080/",
          "height": 84
        },
        "outputId": "725bfb9e-1efa-4049-ea73-670146be5e4f"
      },
      "cell_type": "code",
      "source": [
        "!ls -l"
      ],
      "execution_count": 6,
      "outputs": [
        {
          "output_type": "stream",
          "text": [
            "total 8516\n",
            "-rw-r--r-- 1 root root 8707152 Dec  7 09:10 cifar10_cnn.h5\n",
            "-rw-r--r-- 1 root root    4878 Dec  7 09:10 cifar10_cnn.json\n",
            "drwxr-xr-x 2 root root    4096 Dec  5 17:39 sample_data\n"
          ],
          "name": "stdout"
        }
      ]
    },
    {
      "metadata": {
        "id": "4Y-Zsy4t8sAG",
        "colab_type": "code",
        "colab": {}
      },
      "cell_type": "code",
      "source": [
        ""
      ],
      "execution_count": 0,
      "outputs": []
    }
  ]
}