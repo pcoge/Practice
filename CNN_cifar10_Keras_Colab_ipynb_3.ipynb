{
  "nbformat": 4,
  "nbformat_minor": 0,
  "metadata": {
    "colab": {
      "name": "CNN_cifar10_Keras_Colab.ipynb_3.ipynb",
      "version": "0.3.2",
      "provenance": [],
      "collapsed_sections": [],
      "include_colab_link": true
    },
    "kernelspec": {
      "name": "python3",
      "display_name": "Python 3"
    },
    "accelerator": "GPU"
  },
  "cells": [
    {
      "cell_type": "markdown",
      "metadata": {
        "id": "view-in-github",
        "colab_type": "text"
      },
      "source": [
        "<a href=\"https://colab.research.google.com/github/pcoge/Practice/blob/master/CNN_cifar10_Keras_Colab_ipynb_3.ipynb\" target=\"_parent\"><img src=\"https://colab.research.google.com/assets/colab-badge.svg\" alt=\"Open In Colab\"/></a>"
      ]
    },
    {
      "metadata": {
        "id": "WIZkyAfnfn3l",
        "colab_type": "code",
        "colab": {
          "base_uri": "https://localhost:8080/",
          "height": 118
        },
        "outputId": "bb3b27a6-01b2-478f-9018-e9977f4e2c06"
      },
      "cell_type": "code",
      "source": [
        "!ls -l image"
      ],
      "execution_count": 22,
      "outputs": [
        {
          "output_type": "stream",
          "text": [
            "total 864\n",
            "-rw-r--r-- 1 root root 770493 Dec  8 11:06 airplane2.jpg\n",
            "-rw-r--r-- 1 root root   6562 Dec  8 11:06 airplane.jpg\n",
            "-rw-r--r-- 1 root root  17844 Dec  8 11:06 dog2.jpg\n",
            "-rw-r--r-- 1 root root   4385 Dec  8 11:06 dog.jpg\n",
            "-rw-r--r-- 1 root root  73644 Dec  8 11:06 truck.jpg\n"
          ],
          "name": "stdout"
        }
      ]
    },
    {
      "metadata": {
        "id": "cwQC3L-df9Hc",
        "colab_type": "code",
        "colab": {
          "base_uri": "https://localhost:8080/",
          "height": 1084
        },
        "outputId": "0b0e685c-2e7e-4e62-8120-04cf22359041"
      },
      "cell_type": "code",
      "source": [
        "from keras.models import model_from_json\n",
        "import matplotlib.pyplot as plt\n",
        "from keras.preprocessing.image import img_to_array, load_img\n",
        "\n",
        "#画像読み込み\n",
        "temp_img=load_img(\"./image/truck.jpg\",target_size=(32,32))\n",
        "\n",
        "#画像を配列に変換し0-1で正規化\n",
        "temp_img_array=img_to_array(temp_img)\n",
        "temp_img_array=temp_img_array.astype('float32')/255.0\n",
        "temp_img_array=temp_img_array.reshape((1,32,32,3))\n",
        "\n",
        "#学習済みのモデルと重みを読み込む\n",
        "json_string=open('cifar10_cnn.json').read()\n",
        "model=model_from_json(json_string)\n",
        "model.compile(optimizer='adam',loss='categorical_crossentropy',metrics=['accuracy'])\n",
        "model.load_weights('cifar10_cnn.h5')\n",
        "\n",
        "#モデルを表示\n",
        "model.summary()\n",
        "\n",
        "#画像を予想\n",
        "img_pred=model.predict_classes(temp_img_array)\n",
        "print('\\npredict_classes=',img_pred)\n",
        "\n",
        "plt.imshow(temp_img)\n",
        "plt.title('pred:{}'.format(img_pred))\n",
        "plt.show()"
      ],
      "execution_count": 21,
      "outputs": [
        {
          "output_type": "stream",
          "text": [
            "_________________________________________________________________\n",
            "Layer (type)                 Output Shape              Param #   \n",
            "=================================================================\n",
            "conv2d_1 (Conv2D)            (None, 32, 32, 32)        896       \n",
            "_________________________________________________________________\n",
            "activation_1 (Activation)    (None, 32, 32, 32)        0         \n",
            "_________________________________________________________________\n",
            "conv2d_2 (Conv2D)            (None, 32, 32, 32)        9248      \n",
            "_________________________________________________________________\n",
            "activation_2 (Activation)    (None, 32, 32, 32)        0         \n",
            "_________________________________________________________________\n",
            "max_pooling2d_1 (MaxPooling2 (None, 16, 16, 32)        0         \n",
            "_________________________________________________________________\n",
            "dropout_1 (Dropout)          (None, 16, 16, 32)        0         \n",
            "_________________________________________________________________\n",
            "conv2d_3 (Conv2D)            (None, 16, 16, 64)        18496     \n",
            "_________________________________________________________________\n",
            "activation_3 (Activation)    (None, 16, 16, 64)        0         \n",
            "_________________________________________________________________\n",
            "conv2d_4 (Conv2D)            (None, 16, 16, 64)        36928     \n",
            "_________________________________________________________________\n",
            "activation_4 (Activation)    (None, 16, 16, 64)        0         \n",
            "_________________________________________________________________\n",
            "max_pooling2d_2 (MaxPooling2 (None, 8, 8, 64)          0         \n",
            "_________________________________________________________________\n",
            "dropout_2 (Dropout)          (None, 8, 8, 64)          0         \n",
            "_________________________________________________________________\n",
            "flatten_1 (Flatten)          (None, 4096)              0         \n",
            "_________________________________________________________________\n",
            "dense_1 (Dense)              (None, 512)               2097664   \n",
            "_________________________________________________________________\n",
            "activation_5 (Activation)    (None, 512)               0         \n",
            "_________________________________________________________________\n",
            "dropout_3 (Dropout)          (None, 512)               0         \n",
            "_________________________________________________________________\n",
            "dense_2 (Dense)              (None, 10)                5130      \n",
            "=================================================================\n",
            "Total params: 2,168,362\n",
            "Trainable params: 2,168,362\n",
            "Non-trainable params: 0\n",
            "_________________________________________________________________\n",
            "\n",
            "predict_classes= [9]\n"
          ],
          "name": "stdout"
        },
        {
          "output_type": "display_data",
          "data": {
            "image/png": "[encoded data removed]",
            "text/plain": [
              "<matplotlib.figure.Figure at 0x7f2033fd6e48>"
            ]
          },
          "metadata": {
            "tags": []
          }
        }
      ]
    },
    {
      "metadata": {
        "id": "jaUUg0lShYMH",
        "colab_type": "text"
      },
      "cell_type": "markdown",
      "source": [
        "- 0:airplane\n",
        "- 1:automobile\n",
        "- 2:bird\n",
        "- 3:cat\n",
        "- 4:deer\n",
        "- 5:dog\n",
        "- 6:frog\n",
        "- 7:horse\n",
        "- 8:ship\n",
        "- 9:truck"
      ]
    },
    {
      "metadata": {
        "id": "tobXKApog1Go",
        "colab_type": "text"
      },
      "cell_type": "markdown",
      "source": [
        ""
      ]
    },
    {
      "metadata": {
        "id": "K0oNLWHkhjkO",
        "colab_type": "code",
        "colab": {}
      },
      "cell_type": "code",
      "source": [
        ""
      ],
      "execution_count": 0,
      "outputs": []
    }
  ]
}