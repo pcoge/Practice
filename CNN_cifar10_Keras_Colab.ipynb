{
  "nbformat": 4,
  "nbformat_minor": 0,
  "metadata": {
    "colab": {
      "name": "CNN_cifar10_Keras.ipynb",
      "version": "0.3.2",
      "provenance": [],
      "include_colab_link": true
    },
    "kernelspec": {
      "name": "python3",
      "display_name": "Python 3"
    },
    "accelerator": "GPU"
  },
  "cells": [
    {
      "cell_type": "markdown",
      "metadata": {
        "id": "view-in-github",
        "colab_type": "text"
      },
      "source": [
        "<a href=\"https://colab.research.google.com/github/pcoge/Practice/blob/master/CNN_cifar10_Keras_Colab.ipynb\" target=\"_parent\"><img src=\"https://colab.research.google.com/assets/colab-badge.svg\" alt=\"Open In Colab\"/></a>"
      ]
    },
    {
      "metadata": {
        "id": "th0RYPphIwnd",
        "colab_type": "code",
        "colab": {
          "base_uri": "https://localhost:8080/",
          "height": 67
        },
        "outputId": "d7872f9f-f637-448e-8e5a-823b37f73d53"
      },
      "cell_type": "code",
      "source": [
        "from keras.models import Sequential\n",
        "from keras.layers.convolutional import Conv2D\n",
        "from keras.layers.pooling import MaxPool2D\n",
        "from keras.layers.core import Dense,Activation,Dropout,Flatten\n",
        "from keras.datasets import cifar10\n",
        "from keras.utils import np_utils\n",
        "\n",
        "#cifar10をダウンロード\n",
        "(x_train,y_train),(x_test,y_test)=cifar10.load_data()\n",
        "\n",
        "#画像を0-1の範囲で正規化\n",
        "x_train=x_train.astype('float32')/255.0\n",
        "x_test=x_test.astype('float32')/255.0\n",
        "\n",
        "#正解ラベルをOne-Hot表現に変換\n",
        "y_train=np_utils.to_categorical(y_train,10)\n",
        "y_test=np_utils.to_categorical(y_test,10)"
      ],
      "execution_count": 1,
      "outputs": [
        {
          "output_type": "stream",
          "text": [
            "Using TensorFlow backend.\n"
          ],
          "name": "stderr"
        },
        {
          "output_type": "stream",
          "text": [
            "Downloading data from https://www.cs.toronto.edu/~kriz/cifar-10-python.tar.gz\n",
            "170500096/170498071 [==============================] - 101s 1us/step\n"
          ],
          "name": "stdout"
        }
      ]
    },
    {
      "metadata": {
        "id": "YMAQ828dIwnn",
        "colab_type": "code",
        "colab": {
          "base_uri": "https://localhost:8080/",
          "height": 857
        },
        "outputId": "1023eb4e-90fc-4adc-bd83-4226ad24cd1e"
      },
      "cell_type": "code",
      "source": [
        "print(x_train[0])\n",
        "print(y_train[0])"
      ],
      "execution_count": 2,
      "outputs": [
        {
          "output_type": "stream",
          "text": [
            "[[[0.23137255 0.24313726 0.24705882]\n",
            "  [0.16862746 0.18039216 0.1764706 ]\n",
            "  [0.19607843 0.1882353  0.16862746]\n",
            "  ...\n",
            "  [0.61960787 0.5176471  0.42352942]\n",
            "  [0.59607846 0.49019608 0.4       ]\n",
            "  [0.5803922  0.4862745  0.40392157]]\n",
            "\n",
            " [[0.0627451  0.07843138 0.07843138]\n",
            "  [0.         0.         0.        ]\n",
            "  [0.07058824 0.03137255 0.        ]\n",
            "  ...\n",
            "  [0.48235294 0.34509805 0.21568628]\n",
            "  [0.46666667 0.3254902  0.19607843]\n",
            "  [0.47843137 0.34117648 0.22352941]]\n",
            "\n",
            " [[0.09803922 0.09411765 0.08235294]\n",
            "  [0.0627451  0.02745098 0.        ]\n",
            "  [0.19215687 0.10588235 0.03137255]\n",
            "  ...\n",
            "  [0.4627451  0.32941177 0.19607843]\n",
            "  [0.47058824 0.32941177 0.19607843]\n",
            "  [0.42745098 0.28627452 0.16470589]]\n",
            "\n",
            " ...\n",
            "\n",
            " [[0.8156863  0.6666667  0.3764706 ]\n",
            "  [0.7882353  0.6        0.13333334]\n",
            "  [0.7764706  0.6313726  0.10196079]\n",
            "  ...\n",
            "  [0.627451   0.52156866 0.27450982]\n",
            "  [0.21960784 0.12156863 0.02745098]\n",
            "  [0.20784314 0.13333334 0.07843138]]\n",
            "\n",
            " [[0.7058824  0.54509807 0.3764706 ]\n",
            "  [0.6784314  0.48235294 0.16470589]\n",
            "  [0.7294118  0.5647059  0.11764706]\n",
            "  ...\n",
            "  [0.72156864 0.5803922  0.36862746]\n",
            "  [0.38039216 0.24313726 0.13333334]\n",
            "  [0.3254902  0.20784314 0.13333334]]\n",
            "\n",
            " [[0.69411767 0.5647059  0.45490196]\n",
            "  [0.65882355 0.5058824  0.36862746]\n",
            "  [0.7019608  0.5568628  0.34117648]\n",
            "  ...\n",
            "  [0.84705883 0.72156864 0.54901963]\n",
            "  [0.5921569  0.4627451  0.32941177]\n",
            "  [0.48235294 0.36078432 0.28235295]]]\n",
            "[0. 0. 0. 0. 0. 0. 1. 0. 0. 0.]\n"
          ],
          "name": "stdout"
        }
      ]
    },
    {
      "metadata": {
        "id": "Iq2Mb27qIwns",
        "colab_type": "code",
        "colab": {
          "base_uri": "https://localhost:8080/",
          "height": 1445
        },
        "outputId": "acedc20e-71a8-4978-a169-111eea3248dd"
      },
      "cell_type": "code",
      "source": [
        "#モデルを構築\n",
        "model=Sequential()\n",
        "\n",
        "model.add(Conv2D(32,(3,3),padding='same',input_shape=(32,32,3)))\n",
        "model.add(Activation('relu'))\n",
        "model.add(Conv2D(32,(3,3),padding='same'))\n",
        "model.add(Activation('relu'))\n",
        "model.add(MaxPool2D(pool_size=(2,2)))\n",
        "model.add(Dropout(0.25))\n",
        "\n",
        "model.add(Conv2D(64,(3,3),padding='same'))\n",
        "model.add(Activation('relu'))\n",
        "model.add(Conv2D(64,(3,3),padding='same'))\n",
        "model.add(Activation('relu'))\n",
        "model.add(MaxPool2D(pool_size=(2,2)))\n",
        "model.add(Dropout(0.25))\n",
        "\n",
        "model.add(Flatten())\n",
        "model.add(Dense(512))\n",
        "model.add(Activation('relu'))\n",
        "model.add(Dropout(0.5))\n",
        "model.add(Dense(10,activation='softmax'))\n",
        "\n",
        "model.compile(optimizer='adam',loss='categorical_crossentropy',metrics=['accuracy'])\n",
        "\n",
        "history=model.fit(x_train,y_train,batch_size=128,nb_epoch=20,verbose=1,validation_split=0.1)\n",
        "\n",
        "#モデルと重みを保存\n",
        "json_string=model.to_json()\n",
        "open('cifar10_cnn.json',\"w\").write(json_string)\n",
        "model.save_weights('cifar10_cnn.h5')\n",
        "\n",
        "#モデルの表示\n",
        "model.summary()\n",
        "\n",
        "#評価\n",
        "score=model.evaluate(x_test,y_test,verbose=0)\n",
        "print('Test loss:',score[0])\n",
        "print('Test accuracy:',score[1])"
      ],
      "execution_count": 3,
      "outputs": [
        {
          "output_type": "stream",
          "text": [
            "/usr/local/lib/python3.6/dist-packages/ipykernel_launcher.py:25: UserWarning: The `nb_epoch` argument in `fit` has been renamed `epochs`.\n"
          ],
          "name": "stderr"
        },
        {
          "output_type": "stream",
          "text": [
            "Train on 45000 samples, validate on 5000 samples\n",
            "Epoch 1/20\n",
            "45000/45000 [==============================] - 17s 374us/step - loss: 1.5968 - acc: 0.4162 - val_loss: 1.1751 - val_acc: 0.5808\n",
            "Epoch 2/20\n",
            "45000/45000 [==============================] - 12s 256us/step - loss: 1.1443 - acc: 0.5930 - val_loss: 0.9518 - val_acc: 0.6632\n",
            "Epoch 3/20\n",
            "45000/45000 [==============================] - 12s 256us/step - loss: 0.9530 - acc: 0.6638 - val_loss: 0.7918 - val_acc: 0.7288\n",
            "Epoch 4/20\n",
            "45000/45000 [==============================] - 12s 256us/step - loss: 0.8359 - acc: 0.7065 - val_loss: 0.7375 - val_acc: 0.7466\n",
            "Epoch 5/20\n",
            "45000/45000 [==============================] - 12s 256us/step - loss: 0.7614 - acc: 0.7327 - val_loss: 0.6878 - val_acc: 0.7582\n",
            "Epoch 6/20\n",
            "45000/45000 [==============================] - 12s 257us/step - loss: 0.7008 - acc: 0.7555 - val_loss: 0.6648 - val_acc: 0.7752\n",
            "Epoch 7/20\n",
            "45000/45000 [==============================] - 12s 257us/step - loss: 0.6485 - acc: 0.7704 - val_loss: 0.6498 - val_acc: 0.7788\n",
            "Epoch 8/20\n",
            "45000/45000 [==============================] - 12s 257us/step - loss: 0.6043 - acc: 0.7867 - val_loss: 0.6445 - val_acc: 0.7820\n",
            "Epoch 9/20\n",
            "45000/45000 [==============================] - 12s 256us/step - loss: 0.5615 - acc: 0.7995 - val_loss: 0.5991 - val_acc: 0.7966\n",
            "Epoch 10/20\n",
            "45000/45000 [==============================] - 12s 258us/step - loss: 0.5261 - acc: 0.8131 - val_loss: 0.6228 - val_acc: 0.7928\n",
            "Epoch 11/20\n",
            "45000/45000 [==============================] - 12s 257us/step - loss: 0.4879 - acc: 0.8273 - val_loss: 0.6042 - val_acc: 0.7948\n",
            "Epoch 12/20\n",
            "45000/45000 [==============================] - 11s 255us/step - loss: 0.4601 - acc: 0.8379 - val_loss: 0.5860 - val_acc: 0.8016\n",
            "Epoch 13/20\n",
            "45000/45000 [==============================] - 11s 253us/step - loss: 0.4319 - acc: 0.8460 - val_loss: 0.5926 - val_acc: 0.8026\n",
            "Epoch 14/20\n",
            "45000/45000 [==============================] - 11s 254us/step - loss: 0.4072 - acc: 0.8542 - val_loss: 0.6099 - val_acc: 0.8004\n",
            "Epoch 15/20\n",
            "45000/45000 [==============================] - 11s 254us/step - loss: 0.3871 - acc: 0.8604 - val_loss: 0.6034 - val_acc: 0.8048\n",
            "Epoch 16/20\n",
            "45000/45000 [==============================] - 11s 253us/step - loss: 0.3694 - acc: 0.8680 - val_loss: 0.6037 - val_acc: 0.8064\n",
            "Epoch 17/20\n",
            "45000/45000 [==============================] - 11s 254us/step - loss: 0.3405 - acc: 0.8765 - val_loss: 0.6225 - val_acc: 0.8028\n",
            "Epoch 18/20\n",
            "45000/45000 [==============================] - 11s 252us/step - loss: 0.3351 - acc: 0.8789 - val_loss: 0.6164 - val_acc: 0.8092\n",
            "Epoch 19/20\n",
            "45000/45000 [==============================] - 11s 251us/step - loss: 0.3208 - acc: 0.8860 - val_loss: 0.6540 - val_acc: 0.8122\n",
            "Epoch 20/20\n",
            "45000/45000 [==============================] - 11s 253us/step - loss: 0.3051 - acc: 0.8905 - val_loss: 0.6443 - val_acc: 0.8038\n",
            "_________________________________________________________________\n",
            "Layer (type)                 Output Shape              Param #   \n",
            "=================================================================\n",
            "conv2d_1 (Conv2D)            (None, 32, 32, 32)        896       \n",
            "_________________________________________________________________\n",
            "activation_1 (Activation)    (None, 32, 32, 32)        0         \n",
            "_________________________________________________________________\n",
            "conv2d_2 (Conv2D)            (None, 32, 32, 32)        9248      \n",
            "_________________________________________________________________\n",
            "activation_2 (Activation)    (None, 32, 32, 32)        0         \n",
            "_________________________________________________________________\n",
            "max_pooling2d_1 (MaxPooling2 (None, 16, 16, 32)        0         \n",
            "_________________________________________________________________\n",
            "dropout_1 (Dropout)          (None, 16, 16, 32)        0         \n",
            "_________________________________________________________________\n",
            "conv2d_3 (Conv2D)            (None, 16, 16, 64)        18496     \n",
            "_________________________________________________________________\n",
            "activation_3 (Activation)    (None, 16, 16, 64)        0         \n",
            "_________________________________________________________________\n",
            "conv2d_4 (Conv2D)            (None, 16, 16, 64)        36928     \n",
            "_________________________________________________________________\n",
            "activation_4 (Activation)    (None, 16, 16, 64)        0         \n",
            "_________________________________________________________________\n",
            "max_pooling2d_2 (MaxPooling2 (None, 8, 8, 64)          0         \n",
            "_________________________________________________________________\n",
            "dropout_2 (Dropout)          (None, 8, 8, 64)          0         \n",
            "_________________________________________________________________\n",
            "flatten_1 (Flatten)          (None, 4096)              0         \n",
            "_________________________________________________________________\n",
            "dense_1 (Dense)              (None, 512)               2097664   \n",
            "_________________________________________________________________\n",
            "activation_5 (Activation)    (None, 512)               0         \n",
            "_________________________________________________________________\n",
            "dropout_3 (Dropout)          (None, 512)               0         \n",
            "_________________________________________________________________\n",
            "dense_2 (Dense)              (None, 10)                5130      \n",
            "=================================================================\n",
            "Total params: 2,168,362\n",
            "Trainable params: 2,168,362\n",
            "Non-trainable params: 0\n",
            "_________________________________________________________________\n",
            "Test loss: 0.6710553188323974\n",
            "Test accuracy: 0.795\n"
          ],
          "name": "stdout"
        }
      ]
    },
    {
      "metadata": {
        "id": "DbFNXAuMIwnw",
        "colab_type": "text"
      },
      "cell_type": "markdown",
      "source": [
        "参考にした記事\n",
        "> cifar10とKerasを使ってCNN(Convolutional Neural Network)を実装してみる\n",
        "> https://qiita.com/God_KonaBanana/items/10fa8bb58cdd1dbd2e59"
      ]
    }
  ]
}